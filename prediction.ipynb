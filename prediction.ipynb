{
 "cells": [
  {
   "cell_type": "markdown",
   "metadata": {},
   "source": [
    "#  1. Data Collection/ Preparation \n"
   ]
  },
  {
   "cell_type": "markdown",
   "metadata": {},
   "source": [
    "**1.1 Import Data and Required Packages**"
   ]
  },
  {
   "cell_type": "code",
   "execution_count": 1,
   "metadata": {},
   "outputs": [],
   "source": [
    "# Importing required Libraries\n",
    "import pandas as pd\n",
    "import numpy as np\n",
    "import matplotlib.pyplot as plt\n",
    "%matplotlib inline\n",
    "import seaborn as sns\n",
    "from IPython import get_ipython\n",
    "from sklearn.model_selection import train_test_split\n",
    "from sklearn.metrics import accuracy_score,r2_score\n",
    "from sklearn.linear_model import LogisticRegression\n",
    "from sklearn.tree import DecisionTreeClassifier\n",
    "from sklearn.neighbors import  KNeighborsClassifier\n",
    "from sklearn.ensemble import RandomForestClassifier\n",
    "from sklearn import tree\n",
    "from sklearn.model_selection import GridSearchCV\n",
    "from sklearn.preprocessing import OneHotEncoder,StandardScaler\n",
    "from sklearn.model_selection import train_test_split, GridSearchCV\n",
    "from sklearn.metrics import precision_score,recall_score\n",
    "from sklearn.metrics import f1_score\n",
    "from sklearn.metrics import confusion_matrix,accuracy_score, classification_report,ConfusionMatrixDisplay\n",
    "from sklearn.model_selection import GridSearchCV\n",
    "from sklearn.metrics import classification_report, accuracy_score, confusion_matrix\n",
    "from sklearn.model_selection import RandomizedSearchCV\n",
    "from sklearn.gaussian_process import GaussianProcessClassifier\n",
    "from sklearn.gaussian_process.kernels import RBF\n",
    "from sklearn.preprocessing import LabelEncoder\n",
    "import plotly.express as px\n",
    "import warnings\n",
    "warnings.filterwarnings(\"ignore\")"
   ]
  },
  {
   "cell_type": "markdown",
   "metadata": {},
   "source": [
    "**Import the CSV Data as Pandas DataFrame**"
   ]
  },
  {
   "cell_type": "code",
   "execution_count": 2,
   "metadata": {},
   "outputs": [
    {
     "data": {
      "text/html": [
       "<div>\n",
       "<style scoped>\n",
       "    .dataframe tbody tr th:only-of-type {\n",
       "        vertical-align: middle;\n",
       "    }\n",
       "\n",
       "    .dataframe tbody tr th {\n",
       "        vertical-align: top;\n",
       "    }\n",
       "\n",
       "    .dataframe thead th {\n",
       "        text-align: right;\n",
       "    }\n",
       "</style>\n",
       "<table border=\"1\" class=\"dataframe\">\n",
       "  <thead>\n",
       "    <tr style=\"text-align: right;\">\n",
       "      <th></th>\n",
       "      <th>Gender</th>\n",
       "      <th>Age</th>\n",
       "      <th>Education Level</th>\n",
       "      <th>Institution Type</th>\n",
       "      <th>IT Student</th>\n",
       "      <th>Location</th>\n",
       "      <th>Load-shedding</th>\n",
       "      <th>Financial Condition</th>\n",
       "      <th>Internet Type</th>\n",
       "      <th>Network Type</th>\n",
       "      <th>Class Duration</th>\n",
       "      <th>Self Lms</th>\n",
       "      <th>Device</th>\n",
       "      <th>Adaptivity Level</th>\n",
       "    </tr>\n",
       "  </thead>\n",
       "  <tbody>\n",
       "    <tr>\n",
       "      <th>0</th>\n",
       "      <td>Boy</td>\n",
       "      <td>21-25</td>\n",
       "      <td>University</td>\n",
       "      <td>Non Government</td>\n",
       "      <td>No</td>\n",
       "      <td>Yes</td>\n",
       "      <td>Low</td>\n",
       "      <td>Mid</td>\n",
       "      <td>Wifi</td>\n",
       "      <td>4G</td>\n",
       "      <td>3-6</td>\n",
       "      <td>No</td>\n",
       "      <td>Tab</td>\n",
       "      <td>Moderate</td>\n",
       "    </tr>\n",
       "    <tr>\n",
       "      <th>1</th>\n",
       "      <td>Girl</td>\n",
       "      <td>21-25</td>\n",
       "      <td>University</td>\n",
       "      <td>Non Government</td>\n",
       "      <td>No</td>\n",
       "      <td>Yes</td>\n",
       "      <td>High</td>\n",
       "      <td>Mid</td>\n",
       "      <td>Mobile Data</td>\n",
       "      <td>4G</td>\n",
       "      <td>1-3</td>\n",
       "      <td>Yes</td>\n",
       "      <td>Mobile</td>\n",
       "      <td>Moderate</td>\n",
       "    </tr>\n",
       "    <tr>\n",
       "      <th>2</th>\n",
       "      <td>Girl</td>\n",
       "      <td>16-20</td>\n",
       "      <td>College</td>\n",
       "      <td>Government</td>\n",
       "      <td>No</td>\n",
       "      <td>Yes</td>\n",
       "      <td>Low</td>\n",
       "      <td>Mid</td>\n",
       "      <td>Wifi</td>\n",
       "      <td>4G</td>\n",
       "      <td>1-3</td>\n",
       "      <td>No</td>\n",
       "      <td>Mobile</td>\n",
       "      <td>Moderate</td>\n",
       "    </tr>\n",
       "    <tr>\n",
       "      <th>3</th>\n",
       "      <td>Girl</td>\n",
       "      <td>11-15</td>\n",
       "      <td>School</td>\n",
       "      <td>Non Government</td>\n",
       "      <td>No</td>\n",
       "      <td>Yes</td>\n",
       "      <td>Low</td>\n",
       "      <td>Mid</td>\n",
       "      <td>Mobile Data</td>\n",
       "      <td>4G</td>\n",
       "      <td>1-3</td>\n",
       "      <td>No</td>\n",
       "      <td>Mobile</td>\n",
       "      <td>Moderate</td>\n",
       "    </tr>\n",
       "    <tr>\n",
       "      <th>4</th>\n",
       "      <td>Girl</td>\n",
       "      <td>16-20</td>\n",
       "      <td>School</td>\n",
       "      <td>Non Government</td>\n",
       "      <td>No</td>\n",
       "      <td>Yes</td>\n",
       "      <td>Low</td>\n",
       "      <td>Poor</td>\n",
       "      <td>Mobile Data</td>\n",
       "      <td>3G</td>\n",
       "      <td>0</td>\n",
       "      <td>No</td>\n",
       "      <td>Mobile</td>\n",
       "      <td>Low</td>\n",
       "    </tr>\n",
       "    <tr>\n",
       "      <th>...</th>\n",
       "      <td>...</td>\n",
       "      <td>...</td>\n",
       "      <td>...</td>\n",
       "      <td>...</td>\n",
       "      <td>...</td>\n",
       "      <td>...</td>\n",
       "      <td>...</td>\n",
       "      <td>...</td>\n",
       "      <td>...</td>\n",
       "      <td>...</td>\n",
       "      <td>...</td>\n",
       "      <td>...</td>\n",
       "      <td>...</td>\n",
       "      <td>...</td>\n",
       "    </tr>\n",
       "    <tr>\n",
       "      <th>1200</th>\n",
       "      <td>Girl</td>\n",
       "      <td>16-20</td>\n",
       "      <td>College</td>\n",
       "      <td>Non Government</td>\n",
       "      <td>No</td>\n",
       "      <td>Yes</td>\n",
       "      <td>Low</td>\n",
       "      <td>Mid</td>\n",
       "      <td>Wifi</td>\n",
       "      <td>4G</td>\n",
       "      <td>1-3</td>\n",
       "      <td>No</td>\n",
       "      <td>Mobile</td>\n",
       "      <td>Low</td>\n",
       "    </tr>\n",
       "    <tr>\n",
       "      <th>1201</th>\n",
       "      <td>Girl</td>\n",
       "      <td>16-20</td>\n",
       "      <td>College</td>\n",
       "      <td>Non Government</td>\n",
       "      <td>No</td>\n",
       "      <td>No</td>\n",
       "      <td>High</td>\n",
       "      <td>Mid</td>\n",
       "      <td>Wifi</td>\n",
       "      <td>4G</td>\n",
       "      <td>3-6</td>\n",
       "      <td>No</td>\n",
       "      <td>Mobile</td>\n",
       "      <td>Moderate</td>\n",
       "    </tr>\n",
       "    <tr>\n",
       "      <th>1202</th>\n",
       "      <td>Boy</td>\n",
       "      <td>11-15</td>\n",
       "      <td>School</td>\n",
       "      <td>Non Government</td>\n",
       "      <td>No</td>\n",
       "      <td>Yes</td>\n",
       "      <td>Low</td>\n",
       "      <td>Mid</td>\n",
       "      <td>Mobile Data</td>\n",
       "      <td>3G</td>\n",
       "      <td>1-3</td>\n",
       "      <td>No</td>\n",
       "      <td>Mobile</td>\n",
       "      <td>Moderate</td>\n",
       "    </tr>\n",
       "    <tr>\n",
       "      <th>1203</th>\n",
       "      <td>Girl</td>\n",
       "      <td>16-20</td>\n",
       "      <td>College</td>\n",
       "      <td>Non Government</td>\n",
       "      <td>No</td>\n",
       "      <td>No</td>\n",
       "      <td>Low</td>\n",
       "      <td>Mid</td>\n",
       "      <td>Wifi</td>\n",
       "      <td>4G</td>\n",
       "      <td>1-3</td>\n",
       "      <td>No</td>\n",
       "      <td>Mobile</td>\n",
       "      <td>Low</td>\n",
       "    </tr>\n",
       "    <tr>\n",
       "      <th>1204</th>\n",
       "      <td>Girl</td>\n",
       "      <td>11-15</td>\n",
       "      <td>School</td>\n",
       "      <td>Non Government</td>\n",
       "      <td>No</td>\n",
       "      <td>Yes</td>\n",
       "      <td>Low</td>\n",
       "      <td>Poor</td>\n",
       "      <td>Mobile Data</td>\n",
       "      <td>3G</td>\n",
       "      <td>1-3</td>\n",
       "      <td>No</td>\n",
       "      <td>Mobile</td>\n",
       "      <td>Moderate</td>\n",
       "    </tr>\n",
       "  </tbody>\n",
       "</table>\n",
       "<p>1205 rows × 14 columns</p>\n",
       "</div>"
      ],
      "text/plain": [
       "     Gender    Age Education Level Institution Type IT Student Location  \\\n",
       "0       Boy  21-25      University   Non Government         No      Yes   \n",
       "1      Girl  21-25      University   Non Government         No      Yes   \n",
       "2      Girl  16-20         College       Government         No      Yes   \n",
       "3      Girl  11-15          School   Non Government         No      Yes   \n",
       "4      Girl  16-20          School   Non Government         No      Yes   \n",
       "...     ...    ...             ...              ...        ...      ...   \n",
       "1200   Girl  16-20         College   Non Government         No      Yes   \n",
       "1201   Girl  16-20         College   Non Government         No       No   \n",
       "1202    Boy  11-15          School   Non Government         No      Yes   \n",
       "1203   Girl  16-20         College   Non Government         No       No   \n",
       "1204   Girl  11-15          School   Non Government         No      Yes   \n",
       "\n",
       "     Load-shedding Financial Condition Internet Type Network Type  \\\n",
       "0              Low                 Mid          Wifi           4G   \n",
       "1             High                 Mid   Mobile Data           4G   \n",
       "2              Low                 Mid          Wifi           4G   \n",
       "3              Low                 Mid   Mobile Data           4G   \n",
       "4              Low                Poor   Mobile Data           3G   \n",
       "...            ...                 ...           ...          ...   \n",
       "1200           Low                 Mid          Wifi           4G   \n",
       "1201          High                 Mid          Wifi           4G   \n",
       "1202           Low                 Mid   Mobile Data           3G   \n",
       "1203           Low                 Mid          Wifi           4G   \n",
       "1204           Low                Poor   Mobile Data           3G   \n",
       "\n",
       "     Class Duration Self Lms  Device Adaptivity Level  \n",
       "0               3-6       No     Tab         Moderate  \n",
       "1               1-3      Yes  Mobile         Moderate  \n",
       "2               1-3       No  Mobile         Moderate  \n",
       "3               1-3       No  Mobile         Moderate  \n",
       "4                 0       No  Mobile              Low  \n",
       "...             ...      ...     ...              ...  \n",
       "1200            1-3       No  Mobile              Low  \n",
       "1201            3-6       No  Mobile         Moderate  \n",
       "1202            1-3       No  Mobile         Moderate  \n",
       "1203            1-3       No  Mobile              Low  \n",
       "1204            1-3       No  Mobile         Moderate  \n",
       "\n",
       "[1205 rows x 14 columns]"
      ]
     },
     "execution_count": 2,
     "metadata": {},
     "output_type": "execute_result"
    }
   ],
   "source": [
    "df = pd.read_csv(\"students_adaptability_level_online_education.csv\")\n",
    "\n",
    "df"
   ]
  },
  {
   "cell_type": "markdown",
   "metadata": {},
   "source": [
    "**Shape of the Dataset**"
   ]
  },
  {
   "cell_type": "code",
   "execution_count": 3,
   "metadata": {},
   "outputs": [
    {
     "data": {
      "text/plain": [
       "(1205, 14)"
      ]
     },
     "execution_count": 3,
     "metadata": {},
     "output_type": "execute_result"
    }
   ],
   "source": [
    "df.shape"
   ]
  },
  {
   "cell_type": "markdown",
   "metadata": {},
   "source": [
    "# 2. Data Processing "
   ]
  },
  {
   "cell_type": "code",
   "execution_count": 4,
   "metadata": {},
   "outputs": [
    {
     "data": {
      "text/plain": [
       "Gender                 0\n",
       "Age                    0\n",
       "Education Level        0\n",
       "Institution Type       0\n",
       "IT Student             0\n",
       "Location               0\n",
       "Load-shedding          0\n",
       "Financial Condition    0\n",
       "Internet Type          0\n",
       "Network Type           0\n",
       "Class Duration         0\n",
       "Self Lms               0\n",
       "Device                 0\n",
       "Adaptivity Level       0\n",
       "dtype: int64"
      ]
     },
     "execution_count": 4,
     "metadata": {},
     "output_type": "execute_result"
    }
   ],
   "source": [
    "df.isna().sum()"
   ]
  },
  {
   "cell_type": "markdown",
   "metadata": {},
   "source": [
    "There are no missing values in the dataset."
   ]
  },
  {
   "cell_type": "markdown",
   "metadata": {},
   "source": [
    "**Check Data Types**"
   ]
  },
  {
   "cell_type": "code",
   "execution_count": 5,
   "metadata": {},
   "outputs": [
    {
     "name": "stdout",
     "output_type": "stream",
     "text": [
      "<class 'pandas.core.frame.DataFrame'>\n",
      "RangeIndex: 1205 entries, 0 to 1204\n",
      "Data columns (total 14 columns):\n",
      " #   Column               Non-Null Count  Dtype \n",
      "---  ------               --------------  ----- \n",
      " 0   Gender               1205 non-null   object\n",
      " 1   Age                  1205 non-null   object\n",
      " 2   Education Level      1205 non-null   object\n",
      " 3   Institution Type     1205 non-null   object\n",
      " 4   IT Student           1205 non-null   object\n",
      " 5   Location             1205 non-null   object\n",
      " 6   Load-shedding        1205 non-null   object\n",
      " 7   Financial Condition  1205 non-null   object\n",
      " 8   Internet Type        1205 non-null   object\n",
      " 9   Network Type         1205 non-null   object\n",
      " 10  Class Duration       1205 non-null   object\n",
      " 11  Self Lms             1205 non-null   object\n",
      " 12  Device               1205 non-null   object\n",
      " 13  Adaptivity Level     1205 non-null   object\n",
      "dtypes: object(14)\n",
      "memory usage: 131.9+ KB\n"
     ]
    }
   ],
   "source": [
    "df.info()"
   ]
  },
  {
   "cell_type": "markdown",
   "metadata": {},
   "source": [
    "**Checking the Number of unique values of each column**"
   ]
  },
  {
   "cell_type": "code",
   "execution_count": 6,
   "metadata": {},
   "outputs": [
    {
     "data": {
      "text/plain": [
       "Gender                 2\n",
       "Age                    6\n",
       "Education Level        3\n",
       "Institution Type       2\n",
       "IT Student             2\n",
       "Location               2\n",
       "Load-shedding          2\n",
       "Financial Condition    3\n",
       "Internet Type          2\n",
       "Network Type           3\n",
       "Class Duration         3\n",
       "Self Lms               2\n",
       "Device                 3\n",
       "Adaptivity Level       3\n",
       "dtype: int64"
      ]
     },
     "execution_count": 6,
     "metadata": {},
     "output_type": "execute_result"
    }
   ],
   "source": [
    "df.nunique()"
   ]
  },
  {
   "cell_type": "markdown",
   "metadata": {},
   "source": [
    "**Check Statistics of data set**"
   ]
  },
  {
   "cell_type": "code",
   "execution_count": 7,
   "metadata": {},
   "outputs": [
    {
     "data": {
      "text/html": [
       "<div>\n",
       "<style scoped>\n",
       "    .dataframe tbody tr th:only-of-type {\n",
       "        vertical-align: middle;\n",
       "    }\n",
       "\n",
       "    .dataframe tbody tr th {\n",
       "        vertical-align: top;\n",
       "    }\n",
       "\n",
       "    .dataframe thead th {\n",
       "        text-align: right;\n",
       "    }\n",
       "</style>\n",
       "<table border=\"1\" class=\"dataframe\">\n",
       "  <thead>\n",
       "    <tr style=\"text-align: right;\">\n",
       "      <th></th>\n",
       "      <th>Gender</th>\n",
       "      <th>Age</th>\n",
       "      <th>Education Level</th>\n",
       "      <th>Institution Type</th>\n",
       "      <th>IT Student</th>\n",
       "      <th>Location</th>\n",
       "      <th>Load-shedding</th>\n",
       "      <th>Financial Condition</th>\n",
       "      <th>Internet Type</th>\n",
       "      <th>Network Type</th>\n",
       "      <th>Class Duration</th>\n",
       "      <th>Self Lms</th>\n",
       "      <th>Device</th>\n",
       "      <th>Adaptivity Level</th>\n",
       "    </tr>\n",
       "  </thead>\n",
       "  <tbody>\n",
       "    <tr>\n",
       "      <th>count</th>\n",
       "      <td>1205</td>\n",
       "      <td>1205</td>\n",
       "      <td>1205</td>\n",
       "      <td>1205</td>\n",
       "      <td>1205</td>\n",
       "      <td>1205</td>\n",
       "      <td>1205</td>\n",
       "      <td>1205</td>\n",
       "      <td>1205</td>\n",
       "      <td>1205</td>\n",
       "      <td>1205</td>\n",
       "      <td>1205</td>\n",
       "      <td>1205</td>\n",
       "      <td>1205</td>\n",
       "    </tr>\n",
       "    <tr>\n",
       "      <th>unique</th>\n",
       "      <td>2</td>\n",
       "      <td>6</td>\n",
       "      <td>3</td>\n",
       "      <td>2</td>\n",
       "      <td>2</td>\n",
       "      <td>2</td>\n",
       "      <td>2</td>\n",
       "      <td>3</td>\n",
       "      <td>2</td>\n",
       "      <td>3</td>\n",
       "      <td>3</td>\n",
       "      <td>2</td>\n",
       "      <td>3</td>\n",
       "      <td>3</td>\n",
       "    </tr>\n",
       "    <tr>\n",
       "      <th>top</th>\n",
       "      <td>Boy</td>\n",
       "      <td>21-25</td>\n",
       "      <td>School</td>\n",
       "      <td>Non Government</td>\n",
       "      <td>No</td>\n",
       "      <td>Yes</td>\n",
       "      <td>Low</td>\n",
       "      <td>Mid</td>\n",
       "      <td>Mobile Data</td>\n",
       "      <td>4G</td>\n",
       "      <td>1-3</td>\n",
       "      <td>No</td>\n",
       "      <td>Mobile</td>\n",
       "      <td>Moderate</td>\n",
       "    </tr>\n",
       "    <tr>\n",
       "      <th>freq</th>\n",
       "      <td>663</td>\n",
       "      <td>374</td>\n",
       "      <td>530</td>\n",
       "      <td>823</td>\n",
       "      <td>901</td>\n",
       "      <td>935</td>\n",
       "      <td>1004</td>\n",
       "      <td>878</td>\n",
       "      <td>695</td>\n",
       "      <td>775</td>\n",
       "      <td>840</td>\n",
       "      <td>995</td>\n",
       "      <td>1013</td>\n",
       "      <td>625</td>\n",
       "    </tr>\n",
       "  </tbody>\n",
       "</table>\n",
       "</div>"
      ],
      "text/plain": [
       "       Gender    Age Education Level Institution Type IT Student Location  \\\n",
       "count    1205   1205            1205             1205       1205     1205   \n",
       "unique      2      6               3                2          2        2   \n",
       "top       Boy  21-25          School   Non Government         No      Yes   \n",
       "freq      663    374             530              823        901      935   \n",
       "\n",
       "       Load-shedding Financial Condition Internet Type Network Type  \\\n",
       "count           1205                1205          1205         1205   \n",
       "unique             2                   3             2            3   \n",
       "top              Low                 Mid   Mobile Data           4G   \n",
       "freq            1004                 878           695          775   \n",
       "\n",
       "       Class Duration Self Lms  Device Adaptivity Level  \n",
       "count            1205     1205    1205             1205  \n",
       "unique              3        2       3                3  \n",
       "top               1-3       No  Mobile         Moderate  \n",
       "freq              840      995    1013              625  "
      ]
     },
     "execution_count": 7,
     "metadata": {},
     "output_type": "execute_result"
    }
   ],
   "source": [
    "df.describe()"
   ]
  },
  {
   "cell_type": "code",
   "execution_count": 8,
   "metadata": {},
   "outputs": [
    {
     "data": {
      "text/html": [
       "<div>\n",
       "<style scoped>\n",
       "    .dataframe tbody tr th:only-of-type {\n",
       "        vertical-align: middle;\n",
       "    }\n",
       "\n",
       "    .dataframe tbody tr th {\n",
       "        vertical-align: top;\n",
       "    }\n",
       "\n",
       "    .dataframe thead th {\n",
       "        text-align: right;\n",
       "    }\n",
       "</style>\n",
       "<table border=\"1\" class=\"dataframe\">\n",
       "  <thead>\n",
       "    <tr style=\"text-align: right;\">\n",
       "      <th></th>\n",
       "      <th>Gender</th>\n",
       "      <th>Age</th>\n",
       "      <th>Education Level</th>\n",
       "      <th>Institution Type</th>\n",
       "      <th>IT Student</th>\n",
       "      <th>Location</th>\n",
       "      <th>Load-shedding</th>\n",
       "      <th>Financial Condition</th>\n",
       "      <th>Internet Type</th>\n",
       "      <th>Network Type</th>\n",
       "      <th>Class Duration</th>\n",
       "      <th>Self Lms</th>\n",
       "      <th>Device</th>\n",
       "      <th>Adaptivity Level</th>\n",
       "    </tr>\n",
       "  </thead>\n",
       "  <tbody>\n",
       "    <tr>\n",
       "      <th>0</th>\n",
       "      <td>Boy</td>\n",
       "      <td>21-25</td>\n",
       "      <td>University</td>\n",
       "      <td>Non Government</td>\n",
       "      <td>No</td>\n",
       "      <td>Yes</td>\n",
       "      <td>Low</td>\n",
       "      <td>Mid</td>\n",
       "      <td>Wifi</td>\n",
       "      <td>4G</td>\n",
       "      <td>3-6</td>\n",
       "      <td>No</td>\n",
       "      <td>Tab</td>\n",
       "      <td>Moderate</td>\n",
       "    </tr>\n",
       "    <tr>\n",
       "      <th>1</th>\n",
       "      <td>Girl</td>\n",
       "      <td>21-25</td>\n",
       "      <td>University</td>\n",
       "      <td>Non Government</td>\n",
       "      <td>No</td>\n",
       "      <td>Yes</td>\n",
       "      <td>High</td>\n",
       "      <td>Mid</td>\n",
       "      <td>Mobile Data</td>\n",
       "      <td>4G</td>\n",
       "      <td>1-3</td>\n",
       "      <td>Yes</td>\n",
       "      <td>Mobile</td>\n",
       "      <td>Moderate</td>\n",
       "    </tr>\n",
       "    <tr>\n",
       "      <th>2</th>\n",
       "      <td>Girl</td>\n",
       "      <td>16-20</td>\n",
       "      <td>College</td>\n",
       "      <td>Government</td>\n",
       "      <td>No</td>\n",
       "      <td>Yes</td>\n",
       "      <td>Low</td>\n",
       "      <td>Mid</td>\n",
       "      <td>Wifi</td>\n",
       "      <td>4G</td>\n",
       "      <td>1-3</td>\n",
       "      <td>No</td>\n",
       "      <td>Mobile</td>\n",
       "      <td>Moderate</td>\n",
       "    </tr>\n",
       "    <tr>\n",
       "      <th>3</th>\n",
       "      <td>Girl</td>\n",
       "      <td>11-15</td>\n",
       "      <td>School</td>\n",
       "      <td>Non Government</td>\n",
       "      <td>No</td>\n",
       "      <td>Yes</td>\n",
       "      <td>Low</td>\n",
       "      <td>Mid</td>\n",
       "      <td>Mobile Data</td>\n",
       "      <td>4G</td>\n",
       "      <td>1-3</td>\n",
       "      <td>No</td>\n",
       "      <td>Mobile</td>\n",
       "      <td>Moderate</td>\n",
       "    </tr>\n",
       "    <tr>\n",
       "      <th>4</th>\n",
       "      <td>Girl</td>\n",
       "      <td>16-20</td>\n",
       "      <td>School</td>\n",
       "      <td>Non Government</td>\n",
       "      <td>No</td>\n",
       "      <td>Yes</td>\n",
       "      <td>Low</td>\n",
       "      <td>Poor</td>\n",
       "      <td>Mobile Data</td>\n",
       "      <td>3G</td>\n",
       "      <td>0</td>\n",
       "      <td>No</td>\n",
       "      <td>Mobile</td>\n",
       "      <td>Low</td>\n",
       "    </tr>\n",
       "  </tbody>\n",
       "</table>\n",
       "</div>"
      ],
      "text/plain": [
       "  Gender    Age Education Level Institution Type IT Student Location  \\\n",
       "0    Boy  21-25      University   Non Government         No      Yes   \n",
       "1   Girl  21-25      University   Non Government         No      Yes   \n",
       "2   Girl  16-20         College       Government         No      Yes   \n",
       "3   Girl  11-15          School   Non Government         No      Yes   \n",
       "4   Girl  16-20          School   Non Government         No      Yes   \n",
       "\n",
       "  Load-shedding Financial Condition Internet Type Network Type Class Duration  \\\n",
       "0           Low                 Mid          Wifi           4G            3-6   \n",
       "1          High                 Mid   Mobile Data           4G            1-3   \n",
       "2           Low                 Mid          Wifi           4G            1-3   \n",
       "3           Low                 Mid   Mobile Data           4G            1-3   \n",
       "4           Low                Poor   Mobile Data           3G              0   \n",
       "\n",
       "  Self Lms  Device Adaptivity Level  \n",
       "0       No     Tab         Moderate  \n",
       "1      Yes  Mobile         Moderate  \n",
       "2       No  Mobile         Moderate  \n",
       "3       No  Mobile         Moderate  \n",
       "4       No  Mobile              Low  "
      ]
     },
     "execution_count": 8,
     "metadata": {},
     "output_type": "execute_result"
    }
   ],
   "source": [
    "df.head()"
   ]
  },
  {
   "cell_type": "code",
   "execution_count": 9,
   "metadata": {},
   "outputs": [
    {
     "name": "stdout",
     "output_type": "stream",
     "text": [
      "Gender : ['Boy', 'Girl']\n",
      "Age : ['21-25', '16-20', '11-15', '26-30', '6-10', '1-5']\n",
      "Education Level : ['University', 'College', 'School']\n",
      "Institution Type : ['Non Government', 'Government']\n",
      "IT Student : ['No', 'Yes']\n",
      "Location : ['Yes', 'No']\n",
      "Load-shedding : ['Low', 'High']\n",
      "Financial Condition : ['Mid', 'Poor', 'Rich']\n",
      "Internet Type : ['Wifi', 'Mobile Data']\n",
      "Network Type : ['4G', '3G', '2G']\n",
      "Class Duration : ['3-6', '1-3', '0']\n",
      "Self Lms : ['No', 'Yes']\n",
      "Device : ['Tab', 'Mobile', 'Computer']\n",
      "Adaptivity Level : ['Moderate', 'Low', 'High']\n"
     ]
    }
   ],
   "source": [
    "# Iterate over each column in the DataFrame\n",
    "\n",
    "for i in df.columns:\n",
    "    print(i, \":\", df[i].unique().tolist())"
   ]
  },
  {
   "cell_type": "code",
   "execution_count": 10,
   "metadata": {},
   "outputs": [
    {
     "name": "stdout",
     "output_type": "stream",
     "text": [
      "We have 0 numerical features : []\n",
      "\n",
      "We have 14 categorical features : ['Gender', 'Age', 'Education Level', 'Institution Type', 'IT Student', 'Location', 'Load-shedding', 'Financial Condition', 'Internet Type', 'Network Type', 'Class Duration', 'Self Lms', 'Device', 'Adaptivity Level']\n"
     ]
    }
   ],
   "source": [
    "# numerical and categorical columns\n",
    "numeric_features = [feature for feature in df.columns if df[feature].dtype != 'O']\n",
    "categorical_features = [feature for feature in df.columns if df[feature].dtype == 'O']\n",
    "\n",
    "# print columns\n",
    "print('We have {} numerical features : {}'.format(len(numeric_features), numeric_features))\n",
    "print('\\nWe have {} categorical features : {}'.format(len(categorical_features), categorical_features))"
   ]
  },
  {
   "cell_type": "markdown",
   "metadata": {},
   "source": [
    "**Which device is more reliable in using online education?**"
   ]
  },
  {
   "cell_type": "code",
   "execution_count": 11,
   "metadata": {},
   "outputs": [
    {
     "data": {
      "text/plain": [
       "<Axes: ylabel='count'>"
      ]
     },
     "execution_count": 11,
     "metadata": {},
     "output_type": "execute_result"
    },
    {
     "data": {
      "image/png": "[encoded data removed]",
      "text/plain": [
       "<Figure size 800x500 with 1 Axes>"
      ]
     },
     "metadata": {},
     "output_type": "display_data"
    }
   ],
   "source": [
    "plt.figure(figsize = (8,5))\n",
    "colors = ('#FFCF96','#FF8080','#CDFAD5')\n",
    "explode = [0,0,0.1]\n",
    "df['Device'].value_counts().plot.pie(colors = colors, explode = explode,autopct = '%1.1f%%', shadow = True)"
   ]
  },
  {
   "cell_type": "markdown",
   "metadata": {},
   "source": [
    "**Device with more adaptability to take online education according to gender?**"
   ]
  },
  {
   "cell_type": "code",
   "execution_count": 12,
   "metadata": {},
   "outputs": [
    {
     "data": {
      "application/vnd.plotly.v1+json": {
       "config": {
        "plotlyServerURL": "https://plot.ly"
       },
       "data": [
        {
         "branchvalues": "total",
         "domain": {
          "x": [
           0,
           1
          ],
          "y": [
           0,
           1
          ]
         },
         "hovertemplate": "labels=%{label}<br>count=%{value}<br>parent=%{parent}<br>id=%{id}<extra></extra>",
         "ids": [
          "High/Computer/Boy",
          "Low/Computer/Boy",
          "Moderate/Computer/Boy",
          "High/Mobile/Boy",
          "Low/Mobile/Boy",
          "Moderate/Mobile/Boy",
          "High/Tab/Boy",
          "Moderate/Tab/Boy",
          "High/Computer/Girl",
          "Low/Computer/Girl",
          "Moderate/Computer/Girl",
          "High/Mobile/Girl",
          "Low/Mobile/Girl",
          "Moderate/Mobile/Girl",
          "Low/Tab/Girl",
          "Moderate/Tab/Girl",
          "High/Computer",
          "Low/Computer",
          "Moderate/Computer",
          "High/Mobile",
          "Low/Mobile",
          "Moderate/Mobile",
          "High/Tab",
          "Low/Tab",
          "Moderate/Tab",
          "High",
          "Low",
          "Moderate"
         ],
         "labels": [
          "Boy",
          "Boy",
          "Boy",
          "Boy",
          "Boy",
          "Boy",
          "Boy",
          "Boy",
          "Girl",
          "Girl",
          "Girl",
          "Girl",
          "Girl",
          "Girl",
          "Girl",
          "Girl",
          "Computer",
          "Computer",
          "Computer",
          "Mobile",
          "Mobile",
          "Mobile",
          "Tab",
          "Tab",
          "Tab",
          "High",
          "Low",
          "Moderate"
         ],
         "name": "",
         "parents": [
          "High/Computer",
          "Low/Computer",
          "Moderate/Computer",
          "High/Mobile",
          "Low/Mobile",
          "Moderate/Mobile",
          "High/Tab",
          "Moderate/Tab",
          "High/Computer",
          "Low/Computer",
          "Moderate/Computer",
          "High/Mobile",
          "Low/Mobile",
          "Moderate/Mobile",
          "Low/Tab",
          "Moderate/Tab",
          "High",
          "Low",
          "Moderate",
          "High",
          "Low",
          "Moderate",
          "High",
          "Low",
          "Moderate",
          "",
          "",
          ""
         ],
         "type": "sunburst",
         "values": [
          27,
          34,
          63,
          42,
          211,
          267,
          2,
          17,
          3,
          6,
          29,
          26,
          227,
          240,
          2,
          9,
          30,
          40,
          92,
          68,
          438,
          507,
          2,
          2,
          26,
          100,
          480,
          625
         ]
        }
       ],
       "layout": {
        "legend": {
         "tracegroupgap": 0
        },
        "margin": {
         "t": 60
        },
        "template": {
         "data": {
          "bar": [
           {
            "error_x": {
             "color": "#2a3f5f"
            },
            "error_y": {
             "color": "#2a3f5f"
            },
            "marker": {
             "line": {
              "color": "#E5ECF6",
              "width": 0.5
             },
             "pattern": {
              "fillmode": "overlay",
              "size": 10,
              "solidity": 0.2
             }
            },
            "type": "bar"
           }
          ],
          "barpolar": [
           {
            "marker": {
             "line": {
              "color": "#E5ECF6",
              "width": 0.5
             },
             "pattern": {
              "fillmode": "overlay",
              "size": 10,
              "solidity": 0.2
             }
            },
            "type": "barpolar"
           }
          ],
          "carpet": [
           {
            "aaxis": {
             "endlinecolor": "#2a3f5f",
             "gridcolor": "white",
             "linecolor": "white",
             "minorgridcolor": "white",
             "startlinecolor": "#2a3f5f"
            },
            "baxis": {
             "endlinecolor": "#2a3f5f",
             "gridcolor": "white",
             "linecolor": "white",
             "minorgridcolor": "white",
             "startlinecolor": "#2a3f5f"
            },
            "type": "carpet"
           }
          ],
          "choropleth": [
           {
            "colorbar": {
             "outlinewidth": 0,
             "ticks": ""
            },
            "type": "choropleth"
           }
          ],
          "contour": [
           {
            "colorbar": {
             "outlinewidth": 0,
             "ticks": ""
            },
            "colorscale": [
             [
              0,
              "#0d0887"
             ],
             [
              0.1111111111111111,
              "#46039f"
             ],
             [
              0.2222222222222222,
              "#7201a8"
             ],
             [
              0.3333333333333333,
              "#9c179e"
             ],
             [
              0.4444444444444444,
              "#bd3786"
             ],
             [
              0.5555555555555556,
              "#d8576b"
             ],
             [
              0.6666666666666666,
              "#ed7953"
             ],
             [
              0.7777777777777778,
              "#fb9f3a"
             ],
             [
              0.8888888888888888,
              "#fdca26"
             ],
             [
              1,
              "#f0f921"
             ]
            ],
            "type": "contour"
           }
          ],
          "contourcarpet": [
           {
            "colorbar": {
             "outlinewidth": 0,
             "ticks": ""
            },
            "type": "contourcarpet"
           }
          ],
          "heatmap": [
           {
            "colorbar": {
             "outlinewidth": 0,
             "ticks": ""
            },
            "colorscale": [
             [
              0,
              "#0d0887"
             ],
             [
              0.1111111111111111,
              "#46039f"
             ],
             [
              0.2222222222222222,
              "#7201a8"
             ],
             [
              0.3333333333333333,
              "#9c179e"
             ],
             [
              0.4444444444444444,
              "#bd3786"
             ],
             [
              0.5555555555555556,
              "#d8576b"
             ],
             [
              0.6666666666666666,
              "#ed7953"
             ],
             [
              0.7777777777777778,
              "#fb9f3a"
             ],
             [
              0.8888888888888888,
              "#fdca26"
             ],
             [
              1,
              "#f0f921"
             ]
            ],
            "type": "heatmap"
           }
          ],
          "heatmapgl": [
           {
            "colorbar": {
             "outlinewidth": 0,
             "ticks": ""
            },
            "colorscale": [
             [
              0,
              "#0d0887"
             ],
             [
              0.1111111111111111,
              "#46039f"
             ],
             [
              0.2222222222222222,
              "#7201a8"
             ],
             [
              0.3333333333333333,
              "#9c179e"
             ],
             [
              0.4444444444444444,
              "#bd3786"
             ],
             [
              0.5555555555555556,
              "#d8576b"
             ],
             [
              0.6666666666666666,
              "#ed7953"
             ],
             [
              0.7777777777777778,
              "#fb9f3a"
             ],
             [
              0.8888888888888888,
              "#fdca26"
             ],
             [
              1,
              "#f0f921"
             ]
            ],
            "type": "heatmapgl"
           }
          ],
          "histogram": [
           {
            "marker": {
             "pattern": {
              "fillmode": "overlay",
              "size": 10,
              "solidity": 0.2
             }
            },
            "type": "histogram"
           }
          ],
          "histogram2d": [
           {
            "colorbar": {
             "outlinewidth": 0,
             "ticks": ""
            },
            "colorscale": [
             [
              0,
              "#0d0887"
             ],
             [
              0.1111111111111111,
              "#46039f"
             ],
             [
              0.2222222222222222,
              "#7201a8"
             ],
             [
              0.3333333333333333,
              "#9c179e"
             ],
             [
              0.4444444444444444,
              "#bd3786"
             ],
             [
              0.5555555555555556,
              "#d8576b"
             ],
             [
              0.6666666666666666,
              "#ed7953"
             ],
             [
              0.7777777777777778,
              "#fb9f3a"
             ],
             [
              0.8888888888888888,
              "#fdca26"
             ],
             [
              1,
              "#f0f921"
             ]
            ],
            "type": "histogram2d"
           }
          ],
          "histogram2dcontour": [
           {
            "colorbar": {
             "outlinewidth": 0,
             "ticks": ""
            },
            "colorscale": [
             [
              0,
              "#0d0887"
             ],
             [
              0.1111111111111111,
              "#46039f"
             ],
             [
              0.2222222222222222,
              "#7201a8"
             ],
             [
              0.3333333333333333,
              "#9c179e"
             ],
             [
              0.4444444444444444,
              "#bd3786"
             ],
             [
              0.5555555555555556,
              "#d8576b"
             ],
             [
              0.6666666666666666,
              "#ed7953"
             ],
             [
              0.7777777777777778,
              "#fb9f3a"
             ],
             [
              0.8888888888888888,
              "#fdca26"
             ],
             [
              1,
              "#f0f921"
             ]
            ],
            "type": "histogram2dcontour"
           }
          ],
          "mesh3d": [
           {
            "colorbar": {
             "outlinewidth": 0,
             "ticks": ""
            },
            "type": "mesh3d"
           }
          ],
          "parcoords": [
           {
            "line": {
             "colorbar": {
              "outlinewidth": 0,
              "ticks": ""
             }
            },
            "type": "parcoords"
           }
          ],
          "pie": [
           {
            "automargin": true,
            "type": "pie"
           }
          ],
          "scatter": [
           {
            "fillpattern": {
             "fillmode": "overlay",
             "size": 10,
             "solidity": 0.2
            },
            "type": "scatter"
           }
          ],
          "scatter3d": [
           {
            "line": {
             "colorbar": {
              "outlinewidth": 0,
              "ticks": ""
             }
            },
            "marker": {
             "colorbar": {
              "outlinewidth": 0,
              "ticks": ""
             }
            },
            "type": "scatter3d"
           }
          ],
          "scattercarpet": [
           {
            "marker": {
             "colorbar": {
              "outlinewidth": 0,
              "ticks": ""
             }
            },
            "type": "scattercarpet"
           }
          ],
          "scattergeo": [
           {
            "marker": {
             "colorbar": {
              "outlinewidth": 0,
              "ticks": ""
             }
            },
            "type": "scattergeo"
           }
          ],
          "scattergl": [
           {
            "marker": {
             "colorbar": {
              "outlinewidth": 0,
              "ticks": ""
             }
            },
            "type": "scattergl"
           }
          ],
          "scattermapbox": [
           {
            "marker": {
             "colorbar": {
              "outlinewidth": 0,
              "ticks": ""
             }
            },
            "type": "scattermapbox"
           }
          ],
          "scatterpolar": [
           {
            "marker": {
             "colorbar": {
              "outlinewidth": 0,
              "ticks": ""
             }
            },
            "type": "scatterpolar"
           }
          ],
          "scatterpolargl": [
           {
            "marker": {
             "colorbar": {
              "outlinewidth": 0,
              "ticks": ""
             }
            },
            "type": "scatterpolargl"
           }
          ],
          "scatterternary": [
           {
            "marker": {
             "colorbar": {
              "outlinewidth": 0,
              "ticks": ""
             }
            },
            "type": "scatterternary"
           }
          ],
          "surface": [
           {
            "colorbar": {
             "outlinewidth": 0,
             "ticks": ""
            },
            "colorscale": [
             [
              0,
              "#0d0887"
             ],
             [
              0.1111111111111111,
              "#46039f"
             ],
             [
              0.2222222222222222,
              "#7201a8"
             ],
             [
              0.3333333333333333,
              "#9c179e"
             ],
             [
              0.4444444444444444,
              "#bd3786"
             ],
             [
              0.5555555555555556,
              "#d8576b"
             ],
             [
              0.6666666666666666,
              "#ed7953"
             ],
             [
              0.7777777777777778,
              "#fb9f3a"
             ],
             [
              0.8888888888888888,
              "#fdca26"
             ],
             [
              1,
              "#f0f921"
             ]
            ],
            "type": "surface"
           }
          ],
          "table": [
           {
            "cells": {
             "fill": {
              "color": "#EBF0F8"
             },
             "line": {
              "color": "white"
             }
            },
            "header": {
             "fill": {
              "color": "#C8D4E3"
             },
             "line": {
              "color": "white"
             }
            },
            "type": "table"
           }
          ]
         },
         "layout": {
          "annotationdefaults": {
           "arrowcolor": "#2a3f5f",
           "arrowhead": 0,
           "arrowwidth": 1
          },
          "autotypenumbers": "strict",
          "coloraxis": {
           "colorbar": {
            "outlinewidth": 0,
            "ticks": ""
           }
          },
          "colorscale": {
           "diverging": [
            [
             0,
             "#8e0152"
            ],
            [
             0.1,
             "#c51b7d"
            ],
            [
             0.2,
             "#de77ae"
            ],
            [
             0.3,
             "#f1b6da"
            ],
            [
             0.4,
             "#fde0ef"
            ],
            [
             0.5,
             "#f7f7f7"
            ],
            [
             0.6,
             "#e6f5d0"
            ],
            [
             0.7,
             "#b8e186"
            ],
            [
             0.8,
             "#7fbc41"
            ],
            [
             0.9,
             "#4d9221"
            ],
            [
             1,
             "#276419"
            ]
           ],
           "sequential": [
            [
             0,
             "#0d0887"
            ],
            [
             0.1111111111111111,
             "#46039f"
            ],
            [
             0.2222222222222222,
             "#7201a8"
            ],
            [
             0.3333333333333333,
             "#9c179e"
            ],
            [
             0.4444444444444444,
             "#bd3786"
            ],
            [
             0.5555555555555556,
             "#d8576b"
            ],
            [
             0.6666666666666666,
             "#ed7953"
            ],
            [
             0.7777777777777778,
             "#fb9f3a"
            ],
            [
             0.8888888888888888,
             "#fdca26"
            ],
            [
             1,
             "#f0f921"
            ]
           ],
           "sequentialminus": [
            [
             0,
             "#0d0887"
            ],
            [
             0.1111111111111111,
             "#46039f"
            ],
            [
             0.2222222222222222,
             "#7201a8"
            ],
            [
             0.3333333333333333,
             "#9c179e"
            ],
            [
             0.4444444444444444,
             "#bd3786"
            ],
            [
             0.5555555555555556,
             "#d8576b"
            ],
            [
             0.6666666666666666,
             "#ed7953"
            ],
            [
             0.7777777777777778,
             "#fb9f3a"
            ],
            [
             0.8888888888888888,
             "#fdca26"
            ],
            [
             1,
             "#f0f921"
            ]
           ]
          },
          "colorway": [
           "#636efa",
           "#EF553B",
           "#00cc96",
           "#ab63fa",
           "#FFA15A",
           "#19d3f3",
           "#FF6692",
           "#B6E880",
           "#FF97FF",
           "#FECB52"
          ],
          "font": {
           "color": "#2a3f5f"
          },
          "geo": {
           "bgcolor": "white",
           "lakecolor": "white",
           "landcolor": "#E5ECF6",
           "showlakes": true,
           "showland": true,
           "subunitcolor": "white"
          },
          "hoverlabel": {
           "align": "left"
          },
          "hovermode": "closest",
          "mapbox": {
           "style": "light"
          },
          "paper_bgcolor": "white",
          "plot_bgcolor": "#E5ECF6",
          "polar": {
           "angularaxis": {
            "gridcolor": "white",
            "linecolor": "white",
            "ticks": ""
           },
           "bgcolor": "#E5ECF6",
           "radialaxis": {
            "gridcolor": "white",
            "linecolor": "white",
            "ticks": ""
           }
          },
          "scene": {
           "xaxis": {
            "backgroundcolor": "#E5ECF6",
            "gridcolor": "white",
            "gridwidth": 2,
            "linecolor": "white",
            "showbackground": true,
            "ticks": "",
            "zerolinecolor": "white"
           },
           "yaxis": {
            "backgroundcolor": "#E5ECF6",
            "gridcolor": "white",
            "gridwidth": 2,
            "linecolor": "white",
            "showbackground": true,
            "ticks": "",
            "zerolinecolor": "white"
           },
           "zaxis": {
            "backgroundcolor": "#E5ECF6",
            "gridcolor": "white",
            "gridwidth": 2,
            "linecolor": "white",
            "showbackground": true,
            "ticks": "",
            "zerolinecolor": "white"
           }
          },
          "shapedefaults": {
           "line": {
            "color": "#2a3f5f"
           }
          },
          "ternary": {
           "aaxis": {
            "gridcolor": "white",
            "linecolor": "white",
            "ticks": ""
           },
           "baxis": {
            "gridcolor": "white",
            "linecolor": "white",
            "ticks": ""
           },
           "bgcolor": "#E5ECF6",
           "caxis": {
            "gridcolor": "white",
            "linecolor": "white",
            "ticks": ""
           }
          },
          "title": {
           "x": 0.05
          },
          "xaxis": {
           "automargin": true,
           "gridcolor": "white",
           "linecolor": "white",
           "ticks": "",
           "title": {
            "standoff": 15
           },
           "zerolinecolor": "white",
           "zerolinewidth": 2
          },
          "yaxis": {
           "automargin": true,
           "gridcolor": "white",
           "linecolor": "white",
           "ticks": "",
           "title": {
            "standoff": 15
           },
           "zerolinecolor": "white",
           "zerolinewidth": 2
          }
         }
        },
        "title": {
         "text": "Sunburst Chart for Adaptivity Level",
         "x": 0.5
        }
       }
      }
     },
     "metadata": {},
     "output_type": "display_data"
    }
   ],
   "source": [
    "# Assuming df is your DataFrame\n",
    "fig = px.sunburst(\n",
    "    df,\n",
    "    path=['Adaptivity Level', 'Device', 'Gender'],\n",
    "    color_discrete_map={'Mid': 'blue', 'Other': 'red'},  # Modify as needed\n",
    ")\n",
    "\n",
    "# Set the title\n",
    "fig.update_layout(title='Sunburst Chart for Adaptivity Level',title_x=0.5)\n",
    "\n",
    "# Display the chart\n",
    "fig.show()\n",
    "  "
   ]
  },
  {
   "cell_type": "markdown",
   "metadata": {},
   "source": [
    "**Which age group is more likely to take online education?**"
   ]
  },
  {
   "cell_type": "code",
   "execution_count": 13,
   "metadata": {},
   "outputs": [
    {
     "data": {
      "text/plain": [
       "<Figure size 640x480 with 0 Axes>"
      ]
     },
     "metadata": {},
     "output_type": "display_data"
    },
    {
     "data": {
      "image/png": "[encoded data removed]",
      "text/plain": [
       "<Figure size 2000x1600 with 6 Axes>"
      ]
     },
     "metadata": {},
     "output_type": "display_data"
    }
   ],
   "source": [
    "plt.tight_layout()\n",
    "\n",
    "UserProfile = ['Gender','Age','Financial Condition','IT Student','Location','Load-shedding']\n",
    "plt.figure(figsize=(20,16))\n",
    "\n",
    "for i, col in enumerate(UserProfile):\n",
    "    plt.subplot(3,3,i + 1)\n",
    "    ax = sns.countplot(data = df, x = col, hue = \"Adaptivity Level\", palette = sns.color_palette(\"Set2\"))"
   ]
  },
  {
   "cell_type": "markdown",
   "metadata": {},
   "source": [
    "**Among education level, which category has mostly low adaptivity level?**"
   ]
  },
  {
   "cell_type": "code",
   "execution_count": 14,
   "metadata": {},
   "outputs": [
    {
     "data": {
      "image/png": "[encoded data removed]",
      "text/plain": [
       "<Figure size 1500x1000 with 3 Axes>"
      ]
     },
     "metadata": {},
     "output_type": "display_data"
    }
   ],
   "source": [
    "graphs = 1\n",
    "plt.figure(figsize=(15,10))\n",
    "c = ['lightblue','lightgreen','cyan']\n",
    "for i in np.unique(df[\"Education Level\"].values):\n",
    "    plt.subplot(2,3,graphs)\n",
    "    un, count = np.unique(df[df[\"Education Level\"] == i][\"Adaptivity Level\"].values, return_counts=True)\n",
    "    count, un = zip(*sorted(zip(count, un), reverse=True))\n",
    "    plt.bar(un, count,color=c)\n",
    "    plt.title(\"Adaptivity Level for \" + i)\n",
    "    plt.xlabel(\"Adaptivity Level\")\n",
    "    plt.ylabel(\"Count\")\n",
    "    graphs = graphs + 1\n",
    "plt.tight_layout()"
   ]
  },
  {
   "cell_type": "markdown",
   "metadata": {},
   "source": [
    "## 2.1 Feature Engineering  "
   ]
  },
  {
   "cell_type": "markdown",
   "metadata": {},
   "source": [
    "**Apply Label Encoder to change all datatype**"
   ]
  },
  {
   "cell_type": "code",
   "execution_count": 15,
   "metadata": {},
   "outputs": [
    {
     "name": "stdout",
     "output_type": "stream",
     "text": [
      "   Gender  Age  Education Level  Institution Type  IT Student  Location  \\\n",
      "0       0    3                2                 1           0         1   \n",
      "1       1    3                2                 1           0         1   \n",
      "2       1    2                0                 0           0         1   \n",
      "3       1    1                1                 1           0         1   \n",
      "4       1    2                1                 1           0         1   \n",
      "\n",
      "   Load-shedding  Financial Condition  Internet Type  Network Type  \\\n",
      "0              1                    0              1             2   \n",
      "1              0                    0              0             2   \n",
      "2              1                    0              1             2   \n",
      "3              1                    0              0             2   \n",
      "4              1                    1              0             1   \n",
      "\n",
      "   Class Duration  Self Lms  Device Adaptivity Level  \n",
      "0               2         0       2         Moderate  \n",
      "1               1         1       1         Moderate  \n",
      "2               1         0       1         Moderate  \n",
      "3               1         0       1         Moderate  \n",
      "4               0         0       1              Low  \n",
      "\n",
      "Value counts for Gender:\n",
      "Gender\n",
      "0    663\n",
      "1    542\n",
      "Name: count, dtype: int64\n",
      "\n",
      "\n",
      "Value counts for Age:\n",
      "Age\n",
      "3    374\n",
      "1    353\n",
      "2    278\n",
      "0     81\n",
      "4     68\n",
      "5     51\n",
      "Name: count, dtype: int64\n",
      "\n",
      "\n",
      "Value counts for Education Level:\n",
      "Education Level\n",
      "1    530\n",
      "2    456\n",
      "0    219\n",
      "Name: count, dtype: int64\n",
      "\n",
      "\n",
      "Value counts for Institution Type:\n",
      "Institution Type\n",
      "1    823\n",
      "0    382\n",
      "Name: count, dtype: int64\n",
      "\n",
      "\n",
      "Value counts for IT Student:\n",
      "IT Student\n",
      "0    901\n",
      "1    304\n",
      "Name: count, dtype: int64\n",
      "\n",
      "\n",
      "Value counts for Location:\n",
      "Location\n",
      "1    935\n",
      "0    270\n",
      "Name: count, dtype: int64\n",
      "\n",
      "\n",
      "Value counts for Load-shedding:\n",
      "Load-shedding\n",
      "1    1004\n",
      "0     201\n",
      "Name: count, dtype: int64\n",
      "\n",
      "\n",
      "Value counts for Financial Condition:\n",
      "Financial Condition\n",
      "0    878\n",
      "1    242\n",
      "2     85\n",
      "Name: count, dtype: int64\n",
      "\n",
      "\n",
      "Value counts for Internet Type:\n",
      "Internet Type\n",
      "0    695\n",
      "1    510\n",
      "Name: count, dtype: int64\n",
      "\n",
      "\n",
      "Value counts for Network Type:\n",
      "Network Type\n",
      "2    775\n",
      "1    411\n",
      "0     19\n",
      "Name: count, dtype: int64\n",
      "\n",
      "\n",
      "Value counts for Class Duration:\n",
      "Class Duration\n",
      "1    840\n",
      "2    211\n",
      "0    154\n",
      "Name: count, dtype: int64\n",
      "\n",
      "\n",
      "Value counts for Self Lms:\n",
      "Self Lms\n",
      "0    995\n",
      "1    210\n",
      "Name: count, dtype: int64\n",
      "\n",
      "\n",
      "Value counts for Device:\n",
      "Device\n",
      "1    1013\n",
      "0     162\n",
      "2      30\n",
      "Name: count, dtype: int64\n",
      "\n"
     ]
    }
   ],
   "source": [
    "# List of categorical columns\n",
    "categorical_columns = ['Gender', 'Age', 'Education Level', 'Institution Type', 'IT Student', 'Location', 'Load-shedding',\n",
    "                       'Financial Condition', 'Internet Type', 'Network Type', 'Class Duration', 'Self Lms', 'Device']\n",
    "\n",
    "# Create a LabelEncoder instance\n",
    "label_encoder = LabelEncoder()\n",
    "\n",
    "# Apply label encoding to each specified column\n",
    "for col in categorical_columns:\n",
    "    df[col] = label_encoder.fit_transform(df[col])\n",
    "\n",
    "# Display the first few rows of the dataset after label encoding\n",
    "print(df.head())\n",
    "\n",
    "encoded_data = df.copy()\n",
    "for col in categorical_columns:\n",
    "    print(f\"\\nValue counts for {col}:\")\n",
    "    print(encoded_data[col].value_counts(), end=\"\\n\\n\")"
   ]
  },
  {
   "cell_type": "code",
   "execution_count": 16,
   "metadata": {},
   "outputs": [],
   "source": [
    "df['Adaptivity Level'] = df['Adaptivity Level'].map({'Moderate': 2, 'Low': 1, 'High': 0})"
   ]
  },
  {
   "cell_type": "code",
   "execution_count": 17,
   "metadata": {},
   "outputs": [],
   "source": [
    "X = df.drop(['Adaptivity Level'], axis=1)\n",
    "y = df['Adaptivity Level']"
   ]
  },
  {
   "cell_type": "markdown",
   "metadata": {},
   "source": [
    "# 3. Model Training"
   ]
  },
  {
   "cell_type": "code",
   "execution_count": 18,
   "metadata": {},
   "outputs": [],
   "source": [
    "X_train, X_test, y_train, y_test=train_test_split(X,y,test_size=0.2,random_state=42,shuffle=True)"
   ]
  },
  {
   "cell_type": "code",
   "execution_count": 19,
   "metadata": {},
   "outputs": [
    {
     "name": "stdout",
     "output_type": "stream",
     "text": [
      "X_train shape: (964, 13)\n",
      "X_test shape: (241, 13)\n",
      "y_train shape: (964, 1)\n",
      "y_test shape: (241, 1)\n"
     ]
    }
   ],
   "source": [
    "y_train = y_train.values.reshape(-1,1)\n",
    "y_test = y_test.values.reshape(-1,1)\n",
    "\n",
    "print(\"X_train shape:\",X_train.shape)\n",
    "print(\"X_test shape:\",X_test.shape)\n",
    "print(\"y_train shape:\",y_train.shape)\n",
    "print(\"y_test shape:\",y_test.shape)"
   ]
  },
  {
   "cell_type": "markdown",
   "metadata": {},
   "source": [
    "**Standardizing the data**"
   ]
  },
  {
   "cell_type": "code",
   "execution_count": 20,
   "metadata": {},
   "outputs": [],
   "source": [
    "# Standardize the data\n",
    "scaler = StandardScaler()\n",
    "X_train_stand = scaler.fit_transform(X_train)\n",
    "X_test_stand = scaler.transform(X_test)"
   ]
  },
  {
   "cell_type": "markdown",
   "metadata": {},
   "source": [
    "# 4. Model Selection and Training"
   ]
  },
  {
   "cell_type": "markdown",
   "metadata": {},
   "source": [
    "## **Defining the classifier for classification**"
   ]
  },
  {
   "cell_type": "markdown",
   "metadata": {},
   "source": [
    "### **Logistic Regression**"
   ]
  },
  {
   "cell_type": "code",
   "execution_count": 21,
   "metadata": {},
   "outputs": [
    {
     "name": "stdout",
     "output_type": "stream",
     "text": [
      "Train Accuracy : 0.6929460580912863\n",
      "Train Confusion Matrix:\n",
      "[[ 35  17  25]\n",
      " [  4 217 156]\n",
      " [ 11  83 416]]\n"
     ]
    },
    {
     "data": {
      "image/png": "[encoded data removed]",
      "text/plain": [
       "<Figure size 300x300 with 2 Axes>"
      ]
     },
     "metadata": {},
     "output_type": "display_data"
    },
    {
     "name": "stdout",
     "output_type": "stream",
     "text": [
      "--------------------------------------------------\n",
      "Test Accuracy : 0.6887966804979253\n",
      "Test Confusion Matrix:\n",
      "[[11  5  7]\n",
      " [ 1 57 45]\n",
      " [ 3 14 98]]\n"
     ]
    },
    {
     "data": {
      "image/png": "[encoded data removed]",
      "text/plain": [
       "<Figure size 300x300 with 2 Axes>"
      ]
     },
     "metadata": {},
     "output_type": "display_data"
    },
    {
     "name": "stdout",
     "output_type": "stream",
     "text": [
      "              precision    recall  f1-score   support\n",
      "\n",
      "           0       0.73      0.48      0.58        23\n",
      "           1       0.75      0.55      0.64       103\n",
      "           2       0.65      0.85      0.74       115\n",
      "\n",
      "    accuracy                           0.69       241\n",
      "   macro avg       0.71      0.63      0.65       241\n",
      "weighted avg       0.70      0.69      0.68       241\n",
      "\n"
     ]
    }
   ],
   "source": [
    "log_reg = LogisticRegression(max_iter=1000)\n",
    "\n",
    "# Train the model\n",
    "log_reg.fit(X_train, y_train)\n",
    "\n",
    "# Predict on the test set\n",
    "y_pred = log_reg.predict(X_test)\n",
    "\n",
    "# Calculate accuracy\n",
    "accuracy_log_reg = accuracy_score(y_test, y_pred)\n",
    "\n",
    "#check accuracy of training and testing\n",
    "print(\"Train Accuracy :\", accuracy_score(y_train, log_reg.predict(X_train)))\n",
    "print(\"Train Confusion Matrix:\")\n",
    "print(confusion_matrix(y_train, log_reg.predict(X_train)))\n",
    "\n",
    "#plot confusion matrix for training set\n",
    "plt.figure(figsize=(3, 3))\n",
    "cm_train = confusion_matrix(y_train, log_reg.predict(X_train))\n",
    "sns.heatmap(cm_train, annot=True, fmt='d', cmap='Reds', xticklabels=['Predicted 0', 'Predicted 1'], yticklabels=['Actual 0', 'Actual 1'])\n",
    "plt.xlabel('Predicted')\n",
    "plt.ylabel('Actual')\n",
    "plt.title('Confusion Matrix - Training Set')\n",
    "plt.show()\n",
    "\n",
    "print(\"-\"*50)\n",
    "\n",
    "print(\"Test Accuracy :\", accuracy_score(y_test, log_reg.predict(X_test)))\n",
    "print(\"Test Confusion Matrix:\")\n",
    "print(confusion_matrix(y_test,log_reg.predict(X_test)))\n",
    "\n",
    "# Plot the Confusion Matrix for Test Set\n",
    "plt.figure(figsize=(3, 3))\n",
    "cm_test = confusion_matrix(y_test, log_reg.predict(X_test))\n",
    "sns.heatmap(cm_test, annot=True, fmt='d', cmap='Blues', xticklabels=['Predicted 0', 'Predicted 1'], yticklabels=['Actual 0', 'Actual 1'])\n",
    "plt.xlabel('Predicted')\n",
    "plt.ylabel('Actual')\n",
    "plt.title('Confusion Matrix - Test Set')\n",
    "plt.show()\n",
    "\n",
    "\n",
    "# Print classification report\n",
    "print(classification_report(y_test, y_pred))"
   ]
  },
  {
   "cell_type": "markdown",
   "metadata": {},
   "source": [
    "### **Decision Tree Classifier**"
   ]
  },
  {
   "cell_type": "code",
   "execution_count": 22,
   "metadata": {},
   "outputs": [
    {
     "name": "stdout",
     "output_type": "stream",
     "text": [
      "Train Accuracy : 0.9346473029045643\n",
      "Train Confusion Matrix:\n",
      "[[ 62   0  15]\n",
      " [  3 359  15]\n",
      " [  3  27 480]]\n"
     ]
    },
    {
     "data": {
      "image/png": "[encoded data removed]",
      "text/plain": [
       "<Figure size 300x300 with 2 Axes>"
      ]
     },
     "metadata": {},
     "output_type": "display_data"
    },
    {
     "name": "stdout",
     "output_type": "stream",
     "text": [
      "--------------------------------------------------\n",
      "Test Accuracy : 0.9004149377593361\n",
      "Test Confusion Matrix:\n",
      "[[ 15   0   8]\n",
      " [  2  95   6]\n",
      " [  0   8 107]]\n"
     ]
    },
    {
     "data": {
      "image/png": "[encoded data removed]",
      "text/plain": [
       "<Figure size 300x300 with 2 Axes>"
      ]
     },
     "metadata": {},
     "output_type": "display_data"
    },
    {
     "name": "stdout",
     "output_type": "stream",
     "text": [
      "              precision    recall  f1-score   support\n",
      "\n",
      "           0       0.88      0.65      0.75        23\n",
      "           1       0.92      0.92      0.92       103\n",
      "           2       0.88      0.93      0.91       115\n",
      "\n",
      "    accuracy                           0.90       241\n",
      "   macro avg       0.90      0.83      0.86       241\n",
      "weighted avg       0.90      0.90      0.90       241\n",
      "\n"
     ]
    }
   ],
   "source": [
    "# Initialize the classifier\n",
    "dt = DecisionTreeClassifier()\n",
    "\n",
    "# Fit the classifier\n",
    "dt.fit(X_train, y_train.ravel())\n",
    "\n",
    "# Predict\n",
    "pred = dt.predict(X_test)\n",
    "\n",
    "# Define the parameters for grid search \n",
    "params = {\n",
    "    'max_depth': range(1, 20, 2),\n",
    "    'min_samples_leaf': range(1, 100, 5),\n",
    "    'min_samples_split': range(2, 10),\n",
    "    'criterion': [\"gini\", \"entropy\"],\n",
    "    'splitter': ['best', 'random'],\n",
    "    'max_features': ['sqrt']\n",
    "}\n",
    "\n",
    "\n",
    "# Perform grid search\n",
    "grid_search = GridSearchCV(estimator=dt,\n",
    "                           param_grid=params,\n",
    "                           cv=4, n_jobs=-1, verbose=0, scoring=\"accuracy\", error_score='raise')\n",
    "\n",
    "grid_search.fit(X_train, y_train.ravel())  \n",
    "\n",
    "# Get the best estimator\n",
    "dt_best = grid_search.best_estimator_\n",
    "\n",
    "accuracy_dt_best = accuracy_score(y_test, pred)\n",
    "\n",
    "# Function to evaluate the model\n",
    "def evaluate_model(dt_classifier):\n",
    "    print(\"Train Accuracy :\", accuracy_score(y_train, dt_classifier.predict(X_train)))\n",
    "    print(\"Train Confusion Matrix:\")\n",
    "    print(confusion_matrix(y_train, dt_classifier.predict(X_train)))\n",
    "    #plot confusion matrix for training set\n",
    "    plt.figure(figsize=(3, 3))\n",
    "    cm_train = confusion_matrix(y_train, dt.predict(X_train))\n",
    "    sns.heatmap(cm_train, annot=True, fmt='d', cmap='Reds', xticklabels=['Predicted 0', 'Predicted 1'], yticklabels=['Actual 0', 'Actual 1'])\n",
    "    plt.xlabel('Predicted')\n",
    "    plt.ylabel('Actual')\n",
    "    plt.title('Confusion Matrix - Training Set')\n",
    "    plt.show()\n",
    "\n",
    "    print(\"-\" * 50)\n",
    "    print(\"Test Accuracy :\", accuracy_score(y_test, dt_classifier.predict(X_test)))\n",
    "    print(\"Test Confusion Matrix:\")\n",
    "    print(confusion_matrix(y_test, dt_classifier.predict(X_test)))\n",
    "    # Plot the Confusion Matrix for Test Set\n",
    "    plt.figure(figsize=(3, 3))\n",
    "    cm_test = confusion_matrix(y_test, dt.predict(X_test))\n",
    "    sns.heatmap(cm_test, annot=True, fmt='d', cmap='Blues', xticklabels=['Predicted 0', 'Predicted 1'], yticklabels=['Actual 0', 'Actual 1'])\n",
    "    plt.xlabel('Predicted')\n",
    "    plt.ylabel('Actual')\n",
    "    plt.title('Confusion Matrix - Test Set')\n",
    "    plt.show()\n",
    "\n",
    "# Evaluate the best model\n",
    "evaluate_model(dt_best)\n",
    "\n",
    "# Predict with the best model\n",
    "pred = dt_best.predict(X_test)\n",
    "\n",
    "# Print classification report\n",
    "print(classification_report(y_test, pred, zero_division=1))\n"
   ]
  },
  {
   "cell_type": "markdown",
   "metadata": {},
   "source": [
    "### **Random Forest Classifier**"
   ]
  },
  {
   "cell_type": "code",
   "execution_count": 23,
   "metadata": {},
   "outputs": [
    {
     "name": "stdout",
     "output_type": "stream",
     "text": [
      "              precision    recall  f1-score   support\n",
      "\n",
      "           0       0.88      0.65      0.75        23\n",
      "           1       0.93      0.94      0.94       103\n",
      "           2       0.90      0.94      0.92       115\n",
      "\n",
      "    accuracy                           0.91       241\n",
      "   macro avg       0.91      0.84      0.87       241\n",
      "weighted avg       0.91      0.91      0.91       241\n",
      "\n",
      "Training Accuracy (Random Forest): 0.9346\n"
     ]
    },
    {
     "data": {
      "image/png": "[encoded data removed]",
      "text/plain": [
       "<Figure size 300x300 with 2 Axes>"
      ]
     },
     "metadata": {},
     "output_type": "display_data"
    },
    {
     "name": "stdout",
     "output_type": "stream",
     "text": [
      "Testing Accuracy (Random Forest): 0.9129\n"
     ]
    },
    {
     "data": {
      "image/png": "[encoded data removed]",
      "text/plain": [
       "<Figure size 300x300 with 2 Axes>"
      ]
     },
     "metadata": {},
     "output_type": "display_data"
    }
   ],
   "source": [
    "# Initialize the Random Forest Classifier\n",
    "rf_classifier = RandomForestClassifier(random_state=0)\n",
    "\n",
    "# Fit the classifier\n",
    "rf_classifier.fit(X_train_stand, y_train)\n",
    "\n",
    "# Predict\n",
    "y_pred_rf = rf_classifier.predict(X_test_stand)\n",
    "\n",
    "# Print classification report\n",
    "print(classification_report(y_test, y_pred_rf))\n",
    "\n",
    "\n",
    "# Calculate training accuracy\n",
    "accuracy_train_rf = accuracy_score(y_train, rf_classifier.predict(X_train_stand))\n",
    "print(f\"Training Accuracy (Random Forest): {accuracy_train_rf:.4f}\")\n",
    "\n",
    "# Confusion Matrix for Training Set (Random Forest)\n",
    "cm_train_rf = confusion_matrix(y_train, rf_classifier.predict(X_train_stand))\n",
    "plt.figure(figsize=(3, 3))\n",
    "sns.heatmap(cm_train_rf, annot=True, fmt='d', cmap='Reds', xticklabels=['Predicted 0', 'Predicted 1', 'Predicted 2'], yticklabels=['Actual 0', 'Actual 1', 'Actual 2'])\n",
    "plt.xlabel('Predicted')\n",
    "plt.ylabel('Actual')\n",
    "plt.title('Confusion Matrix - Training Set (Random Forest)')\n",
    "plt.show()\n",
    "\n",
    "# Confusion Matrix for Testing Set (Random Forest)\n",
    "# Calculate accuracy\n",
    "accuracy_rf = accuracy_score(y_test, y_pred_rf)\n",
    "print(f\"Testing Accuracy (Random Forest): {accuracy_rf:.4f}\")\n",
    "\n",
    "cm_test_rf = confusion_matrix(y_test, y_pred_rf)\n",
    "plt.figure(figsize=(3, 3))\n",
    "sns.heatmap(cm_test_rf, annot=True, fmt='d', cmap='Blues', xticklabels=['Predicted 0', 'Predicted 1', 'Predicted 2'], yticklabels=['Actual 0', 'Actual 1', 'Actual 2'])\n",
    "plt.xlabel('Predicted')\n",
    "plt.ylabel('Actual')\n",
    "plt.title('Confusion Matrix - Testing Set (Random Forest)')\n",
    "plt.show()"
   ]
  },
  {
   "cell_type": "markdown",
   "metadata": {},
   "source": [
    "### **Neural Network Model**"
   ]
  },
  {
   "cell_type": "code",
   "execution_count": 24,
   "metadata": {},
   "outputs": [
    {
     "name": "stdout",
     "output_type": "stream",
     "text": [
      "WARNING:tensorflow:From c:\\Users\\boipe\\AppData\\Local\\Programs\\Python\\Python311\\Lib\\site-packages\\keras\\src\\losses.py:2976: The name tf.losses.sparse_softmax_cross_entropy is deprecated. Please use tf.compat.v1.losses.sparse_softmax_cross_entropy instead.\n",
      "\n",
      "WARNING:tensorflow:From c:\\Users\\boipe\\AppData\\Local\\Programs\\Python\\Python311\\Lib\\site-packages\\keras\\src\\backend.py:873: The name tf.get_default_graph is deprecated. Please use tf.compat.v1.get_default_graph instead.\n",
      "\n",
      "WARNING:tensorflow:From c:\\Users\\boipe\\AppData\\Local\\Programs\\Python\\Python311\\Lib\\site-packages\\keras\\src\\optimizers\\__init__.py:309: The name tf.train.Optimizer is deprecated. Please use tf.compat.v1.train.Optimizer instead.\n",
      "\n",
      "Epoch 1/100\n",
      "WARNING:tensorflow:From c:\\Users\\boipe\\AppData\\Local\\Programs\\Python\\Python311\\Lib\\site-packages\\keras\\src\\utils\\tf_utils.py:492: The name tf.ragged.RaggedTensorValue is deprecated. Please use tf.compat.v1.ragged.RaggedTensorValue instead.\n",
      "\n",
      "WARNING:tensorflow:From c:\\Users\\boipe\\AppData\\Local\\Programs\\Python\\Python311\\Lib\\site-packages\\keras\\src\\engine\\base_layer_utils.py:384: The name tf.executing_eagerly_outside_functions is deprecated. Please use tf.compat.v1.executing_eagerly_outside_functions instead.\n",
      "\n",
      "31/31 [==============================] - 2s 12ms/step - loss: 0.9407 - accuracy: 0.6017 - val_loss: 0.8319 - val_accuracy: 0.6722\n",
      "Epoch 2/100\n",
      "31/31 [==============================] - 0s 3ms/step - loss: 0.7537 - accuracy: 0.7054 - val_loss: 0.7249 - val_accuracy: 0.6846\n",
      "Epoch 3/100\n",
      "31/31 [==============================] - 0s 5ms/step - loss: 0.6711 - accuracy: 0.7158 - val_loss: 0.6830 - val_accuracy: 0.6971\n",
      "Epoch 4/100\n",
      "31/31 [==============================] - 0s 4ms/step - loss: 0.6273 - accuracy: 0.7168 - val_loss: 0.6397 - val_accuracy: 0.7469\n",
      "Epoch 5/100\n",
      "31/31 [==============================] - 0s 5ms/step - loss: 0.5880 - accuracy: 0.7500 - val_loss: 0.6093 - val_accuracy: 0.7759\n",
      "Epoch 6/100\n",
      "31/31 [==============================] - 0s 5ms/step - loss: 0.5584 - accuracy: 0.7707 - val_loss: 0.5909 - val_accuracy: 0.7801\n",
      "Epoch 7/100\n",
      "31/31 [==============================] - 0s 5ms/step - loss: 0.5293 - accuracy: 0.7853 - val_loss: 0.5638 - val_accuracy: 0.8091\n",
      "Epoch 8/100\n",
      "31/31 [==============================] - 0s 5ms/step - loss: 0.5042 - accuracy: 0.7946 - val_loss: 0.5407 - val_accuracy: 0.8008\n",
      "Epoch 9/100\n",
      "31/31 [==============================] - 0s 5ms/step - loss: 0.4829 - accuracy: 0.8102 - val_loss: 0.5334 - val_accuracy: 0.8340\n",
      "Epoch 10/100\n",
      "31/31 [==============================] - 0s 5ms/step - loss: 0.4545 - accuracy: 0.8237 - val_loss: 0.5235 - val_accuracy: 0.8050\n",
      "Epoch 11/100\n",
      "31/31 [==============================] - 0s 5ms/step - loss: 0.4326 - accuracy: 0.8382 - val_loss: 0.5047 - val_accuracy: 0.8340\n",
      "Epoch 12/100\n",
      "31/31 [==============================] - 0s 6ms/step - loss: 0.4175 - accuracy: 0.8413 - val_loss: 0.4942 - val_accuracy: 0.7925\n",
      "Epoch 13/100\n",
      "31/31 [==============================] - 0s 5ms/step - loss: 0.3936 - accuracy: 0.8382 - val_loss: 0.4830 - val_accuracy: 0.8382\n",
      "Epoch 14/100\n",
      "31/31 [==============================] - 0s 5ms/step - loss: 0.3768 - accuracy: 0.8589 - val_loss: 0.4679 - val_accuracy: 0.8382\n",
      "Epoch 15/100\n",
      "31/31 [==============================] - 0s 4ms/step - loss: 0.3665 - accuracy: 0.8610 - val_loss: 0.4563 - val_accuracy: 0.8423\n",
      "Epoch 16/100\n",
      "31/31 [==============================] - 0s 5ms/step - loss: 0.3470 - accuracy: 0.8693 - val_loss: 0.4574 - val_accuracy: 0.8589\n",
      "Epoch 17/100\n",
      "31/31 [==============================] - 0s 5ms/step - loss: 0.3324 - accuracy: 0.8797 - val_loss: 0.4348 - val_accuracy: 0.8506\n",
      "Epoch 18/100\n",
      "31/31 [==============================] - 0s 4ms/step - loss: 0.3205 - accuracy: 0.8776 - val_loss: 0.4348 - val_accuracy: 0.8672\n",
      "Epoch 19/100\n",
      "31/31 [==============================] - 0s 5ms/step - loss: 0.3086 - accuracy: 0.8880 - val_loss: 0.4588 - val_accuracy: 0.8340\n",
      "Epoch 20/100\n",
      "31/31 [==============================] - 0s 5ms/step - loss: 0.2964 - accuracy: 0.8911 - val_loss: 0.4144 - val_accuracy: 0.8631\n",
      "Epoch 21/100\n",
      "31/31 [==============================] - 0s 5ms/step - loss: 0.2865 - accuracy: 0.8963 - val_loss: 0.4098 - val_accuracy: 0.8672\n",
      "Epoch 22/100\n",
      "31/31 [==============================] - 0s 5ms/step - loss: 0.2868 - accuracy: 0.8869 - val_loss: 0.4121 - val_accuracy: 0.8672\n",
      "Epoch 23/100\n",
      "31/31 [==============================] - 0s 5ms/step - loss: 0.2686 - accuracy: 0.9035 - val_loss: 0.4127 - val_accuracy: 0.8382\n",
      "Epoch 24/100\n",
      "31/31 [==============================] - 0s 5ms/step - loss: 0.2564 - accuracy: 0.9066 - val_loss: 0.4043 - val_accuracy: 0.8589\n",
      "Epoch 25/100\n",
      "31/31 [==============================] - 0s 6ms/step - loss: 0.2490 - accuracy: 0.9108 - val_loss: 0.3976 - val_accuracy: 0.8672\n",
      "Epoch 26/100\n",
      "31/31 [==============================] - 0s 5ms/step - loss: 0.2401 - accuracy: 0.9077 - val_loss: 0.3901 - val_accuracy: 0.8672\n",
      "Epoch 27/100\n",
      "31/31 [==============================] - 0s 6ms/step - loss: 0.2351 - accuracy: 0.9108 - val_loss: 0.3801 - val_accuracy: 0.8880\n",
      "Epoch 28/100\n",
      "31/31 [==============================] - 0s 5ms/step - loss: 0.2309 - accuracy: 0.9139 - val_loss: 0.4074 - val_accuracy: 0.8506\n",
      "Epoch 29/100\n",
      "31/31 [==============================] - 0s 5ms/step - loss: 0.2453 - accuracy: 0.9129 - val_loss: 0.3961 - val_accuracy: 0.8880\n",
      "Epoch 30/100\n",
      "31/31 [==============================] - 0s 3ms/step - loss: 0.2269 - accuracy: 0.9098 - val_loss: 0.4041 - val_accuracy: 0.8506\n",
      "Epoch 31/100\n",
      "31/31 [==============================] - 0s 5ms/step - loss: 0.2174 - accuracy: 0.9201 - val_loss: 0.4107 - val_accuracy: 0.8631\n",
      "Epoch 32/100\n",
      "31/31 [==============================] - 0s 4ms/step - loss: 0.2124 - accuracy: 0.9129 - val_loss: 0.3854 - val_accuracy: 0.8838\n",
      "Epoch 33/100\n",
      "31/31 [==============================] - 0s 5ms/step - loss: 0.2079 - accuracy: 0.9180 - val_loss: 0.3894 - val_accuracy: 0.8672\n",
      "Epoch 34/100\n",
      "31/31 [==============================] - 0s 5ms/step - loss: 0.2081 - accuracy: 0.9139 - val_loss: 0.4000 - val_accuracy: 0.8631\n",
      "Epoch 35/100\n",
      "31/31 [==============================] - 0s 5ms/step - loss: 0.2043 - accuracy: 0.9222 - val_loss: 0.4206 - val_accuracy: 0.8672\n",
      "Epoch 36/100\n",
      "31/31 [==============================] - 0s 5ms/step - loss: 0.1986 - accuracy: 0.9170 - val_loss: 0.3818 - val_accuracy: 0.8797\n",
      "Epoch 37/100\n",
      "31/31 [==============================] - 0s 5ms/step - loss: 0.1976 - accuracy: 0.9139 - val_loss: 0.3820 - val_accuracy: 0.8714\n",
      "Epoch 38/100\n",
      "31/31 [==============================] - 0s 6ms/step - loss: 0.1921 - accuracy: 0.9139 - val_loss: 0.3924 - val_accuracy: 0.8631\n",
      "Epoch 39/100\n",
      "31/31 [==============================] - 0s 5ms/step - loss: 0.1861 - accuracy: 0.9284 - val_loss: 0.3915 - val_accuracy: 0.8714\n",
      "Epoch 40/100\n",
      "31/31 [==============================] - 0s 5ms/step - loss: 0.1865 - accuracy: 0.9191 - val_loss: 0.4252 - val_accuracy: 0.8672\n",
      "Epoch 41/100\n",
      "31/31 [==============================] - 0s 4ms/step - loss: 0.1885 - accuracy: 0.9222 - val_loss: 0.4766 - val_accuracy: 0.8548\n",
      "Epoch 42/100\n",
      "31/31 [==============================] - 0s 5ms/step - loss: 0.1925 - accuracy: 0.9129 - val_loss: 0.3982 - val_accuracy: 0.8838\n",
      "Epoch 43/100\n",
      "31/31 [==============================] - 0s 4ms/step - loss: 0.1813 - accuracy: 0.9212 - val_loss: 0.4021 - val_accuracy: 0.8672\n",
      "Epoch 44/100\n",
      "31/31 [==============================] - 0s 2ms/step - loss: 0.1858 - accuracy: 0.9201 - val_loss: 0.3943 - val_accuracy: 0.8755\n",
      "Epoch 45/100\n",
      "31/31 [==============================] - 0s 4ms/step - loss: 0.1848 - accuracy: 0.9212 - val_loss: 0.4070 - val_accuracy: 0.8714\n",
      "Epoch 46/100\n",
      "31/31 [==============================] - 0s 5ms/step - loss: 0.1760 - accuracy: 0.9191 - val_loss: 0.4121 - val_accuracy: 0.8714\n",
      "Epoch 47/100\n",
      "31/31 [==============================] - 0s 4ms/step - loss: 0.1780 - accuracy: 0.9212 - val_loss: 0.4413 - val_accuracy: 0.8548\n",
      "Epoch 48/100\n",
      "31/31 [==============================] - 0s 5ms/step - loss: 0.1859 - accuracy: 0.9201 - val_loss: 0.4236 - val_accuracy: 0.8714\n",
      "Epoch 49/100\n",
      "31/31 [==============================] - 0s 6ms/step - loss: 0.1859 - accuracy: 0.9180 - val_loss: 0.4340 - val_accuracy: 0.8755\n",
      "Epoch 50/100\n",
      "31/31 [==============================] - 0s 6ms/step - loss: 0.1810 - accuracy: 0.9212 - val_loss: 0.4157 - val_accuracy: 0.8797\n",
      "Epoch 51/100\n",
      "31/31 [==============================] - 0s 5ms/step - loss: 0.1848 - accuracy: 0.9212 - val_loss: 0.4252 - val_accuracy: 0.8423\n",
      "Epoch 52/100\n",
      "31/31 [==============================] - 0s 5ms/step - loss: 0.1868 - accuracy: 0.9201 - val_loss: 0.4083 - val_accuracy: 0.8714\n",
      "Epoch 53/100\n",
      "31/31 [==============================] - 0s 5ms/step - loss: 0.1810 - accuracy: 0.9191 - val_loss: 0.4159 - val_accuracy: 0.8797\n",
      "Epoch 54/100\n",
      "31/31 [==============================] - 0s 5ms/step - loss: 0.1675 - accuracy: 0.9274 - val_loss: 0.4623 - val_accuracy: 0.8465\n",
      "Epoch 55/100\n",
      "31/31 [==============================] - 0s 4ms/step - loss: 0.1745 - accuracy: 0.9232 - val_loss: 0.4401 - val_accuracy: 0.8465\n",
      "Epoch 56/100\n",
      "31/31 [==============================] - 0s 6ms/step - loss: 0.1714 - accuracy: 0.9232 - val_loss: 0.4148 - val_accuracy: 0.8921\n",
      "Epoch 57/100\n",
      "31/31 [==============================] - 0s 5ms/step - loss: 0.1654 - accuracy: 0.9263 - val_loss: 0.4213 - val_accuracy: 0.8838\n",
      "Epoch 58/100\n",
      "31/31 [==============================] - 0s 5ms/step - loss: 0.1668 - accuracy: 0.9201 - val_loss: 0.4355 - val_accuracy: 0.8797\n",
      "Epoch 59/100\n",
      "31/31 [==============================] - 0s 6ms/step - loss: 0.1674 - accuracy: 0.9180 - val_loss: 0.4253 - val_accuracy: 0.8880\n",
      "Epoch 60/100\n",
      "31/31 [==============================] - 0s 6ms/step - loss: 0.1662 - accuracy: 0.9222 - val_loss: 0.4176 - val_accuracy: 0.8838\n",
      "Epoch 61/100\n",
      "31/31 [==============================] - 0s 5ms/step - loss: 0.1690 - accuracy: 0.9232 - val_loss: 0.4390 - val_accuracy: 0.8838\n",
      "Epoch 62/100\n",
      "31/31 [==============================] - 0s 5ms/step - loss: 0.1699 - accuracy: 0.9232 - val_loss: 0.4397 - val_accuracy: 0.8921\n",
      "Epoch 63/100\n",
      "31/31 [==============================] - 0s 5ms/step - loss: 0.1652 - accuracy: 0.9253 - val_loss: 0.4224 - val_accuracy: 0.8838\n",
      "Epoch 64/100\n",
      "31/31 [==============================] - 0s 5ms/step - loss: 0.1685 - accuracy: 0.9160 - val_loss: 0.4426 - val_accuracy: 0.8838\n",
      "Epoch 65/100\n",
      "31/31 [==============================] - 0s 5ms/step - loss: 0.1631 - accuracy: 0.9191 - val_loss: 0.4414 - val_accuracy: 0.8838\n",
      "Epoch 66/100\n",
      "31/31 [==============================] - 0s 5ms/step - loss: 0.1646 - accuracy: 0.9212 - val_loss: 0.4266 - val_accuracy: 0.8880\n",
      "Epoch 67/100\n",
      "31/31 [==============================] - 0s 4ms/step - loss: 0.1596 - accuracy: 0.9274 - val_loss: 0.4399 - val_accuracy: 0.8672\n",
      "Epoch 68/100\n",
      "31/31 [==============================] - 0s 5ms/step - loss: 0.1628 - accuracy: 0.9160 - val_loss: 0.4597 - val_accuracy: 0.8672\n",
      "Epoch 69/100\n",
      "31/31 [==============================] - 0s 5ms/step - loss: 0.1834 - accuracy: 0.9108 - val_loss: 0.4525 - val_accuracy: 0.8714\n",
      "Epoch 70/100\n",
      "31/31 [==============================] - 0s 5ms/step - loss: 0.1668 - accuracy: 0.9201 - val_loss: 0.4473 - val_accuracy: 0.8838\n",
      "Epoch 71/100\n",
      "31/31 [==============================] - 0s 5ms/step - loss: 0.1806 - accuracy: 0.9180 - val_loss: 0.4687 - val_accuracy: 0.8631\n",
      "Epoch 72/100\n",
      "31/31 [==============================] - 0s 5ms/step - loss: 0.1658 - accuracy: 0.9284 - val_loss: 0.4378 - val_accuracy: 0.8880\n",
      "Epoch 73/100\n",
      "31/31 [==============================] - 0s 5ms/step - loss: 0.1625 - accuracy: 0.9212 - val_loss: 0.4439 - val_accuracy: 0.8838\n",
      "Epoch 74/100\n",
      "31/31 [==============================] - 0s 6ms/step - loss: 0.1599 - accuracy: 0.9243 - val_loss: 0.4414 - val_accuracy: 0.8838\n",
      "Epoch 75/100\n",
      "31/31 [==============================] - 0s 5ms/step - loss: 0.1627 - accuracy: 0.9253 - val_loss: 0.4424 - val_accuracy: 0.8755\n",
      "Epoch 76/100\n",
      "31/31 [==============================] - 0s 6ms/step - loss: 0.1680 - accuracy: 0.9253 - val_loss: 0.4493 - val_accuracy: 0.8880\n",
      "Epoch 77/100\n",
      "31/31 [==============================] - 0s 4ms/step - loss: 0.1594 - accuracy: 0.9149 - val_loss: 0.4391 - val_accuracy: 0.8921\n",
      "Epoch 78/100\n",
      "31/31 [==============================] - 0s 5ms/step - loss: 0.1581 - accuracy: 0.9274 - val_loss: 0.4505 - val_accuracy: 0.8631\n",
      "Epoch 79/100\n",
      "31/31 [==============================] - 0s 5ms/step - loss: 0.1603 - accuracy: 0.9232 - val_loss: 0.4668 - val_accuracy: 0.8714\n",
      "Epoch 80/100\n",
      "31/31 [==============================] - 0s 6ms/step - loss: 0.1583 - accuracy: 0.9243 - val_loss: 0.4564 - val_accuracy: 0.8880\n",
      "Epoch 81/100\n",
      "31/31 [==============================] - 0s 6ms/step - loss: 0.1564 - accuracy: 0.9284 - val_loss: 0.4568 - val_accuracy: 0.8880\n",
      "Epoch 82/100\n",
      "31/31 [==============================] - 0s 5ms/step - loss: 0.1578 - accuracy: 0.9222 - val_loss: 0.4731 - val_accuracy: 0.8631\n",
      "Epoch 83/100\n",
      "31/31 [==============================] - 0s 5ms/step - loss: 0.1609 - accuracy: 0.9253 - val_loss: 0.4678 - val_accuracy: 0.8672\n",
      "Epoch 84/100\n",
      "31/31 [==============================] - 0s 5ms/step - loss: 0.1624 - accuracy: 0.9201 - val_loss: 0.4729 - val_accuracy: 0.8631\n",
      "Epoch 85/100\n",
      "31/31 [==============================] - 0s 5ms/step - loss: 0.1807 - accuracy: 0.9253 - val_loss: 0.4611 - val_accuracy: 0.8921\n",
      "Epoch 86/100\n",
      "31/31 [==============================] - 0s 5ms/step - loss: 0.1584 - accuracy: 0.9284 - val_loss: 0.4500 - val_accuracy: 0.8838\n",
      "Epoch 87/100\n",
      "31/31 [==============================] - 0s 5ms/step - loss: 0.1560 - accuracy: 0.9191 - val_loss: 0.4567 - val_accuracy: 0.8880\n",
      "Epoch 88/100\n",
      "31/31 [==============================] - 0s 5ms/step - loss: 0.1569 - accuracy: 0.9232 - val_loss: 0.4511 - val_accuracy: 0.8921\n",
      "Epoch 89/100\n",
      "31/31 [==============================] - 0s 6ms/step - loss: 0.1549 - accuracy: 0.9212 - val_loss: 0.4538 - val_accuracy: 0.8921\n",
      "Epoch 90/100\n",
      "31/31 [==============================] - 0s 5ms/step - loss: 0.1530 - accuracy: 0.9315 - val_loss: 0.4696 - val_accuracy: 0.8714\n",
      "Epoch 91/100\n",
      "31/31 [==============================] - 0s 4ms/step - loss: 0.1601 - accuracy: 0.9274 - val_loss: 0.4620 - val_accuracy: 0.8880\n",
      "Epoch 92/100\n",
      "31/31 [==============================] - 0s 5ms/step - loss: 0.1551 - accuracy: 0.9232 - val_loss: 0.4482 - val_accuracy: 0.8880\n",
      "Epoch 93/100\n",
      "31/31 [==============================] - 0s 5ms/step - loss: 0.1516 - accuracy: 0.9274 - val_loss: 0.4782 - val_accuracy: 0.8589\n",
      "Epoch 94/100\n",
      "31/31 [==============================] - 0s 5ms/step - loss: 0.1542 - accuracy: 0.9201 - val_loss: 0.4687 - val_accuracy: 0.8631\n",
      "Epoch 95/100\n",
      "31/31 [==============================] - 0s 5ms/step - loss: 0.1532 - accuracy: 0.9274 - val_loss: 0.4903 - val_accuracy: 0.8880\n",
      "Epoch 96/100\n",
      "31/31 [==============================] - 0s 5ms/step - loss: 0.1717 - accuracy: 0.9263 - val_loss: 0.4728 - val_accuracy: 0.8797\n",
      "Epoch 97/100\n",
      "31/31 [==============================] - 0s 5ms/step - loss: 0.1540 - accuracy: 0.9180 - val_loss: 0.4606 - val_accuracy: 0.8880\n",
      "Epoch 98/100\n",
      "31/31 [==============================] - 0s 5ms/step - loss: 0.1585 - accuracy: 0.9180 - val_loss: 0.4623 - val_accuracy: 0.8838\n",
      "Epoch 99/100\n",
      "31/31 [==============================] - 0s 5ms/step - loss: 0.1522 - accuracy: 0.9305 - val_loss: 0.4991 - val_accuracy: 0.8755\n",
      "Epoch 100/100\n",
      "31/31 [==============================] - 0s 6ms/step - loss: 0.1530 - accuracy: 0.9222 - val_loss: 0.4717 - val_accuracy: 0.8880\n",
      "8/8 [==============================] - 0s 2ms/step - loss: 0.4717 - accuracy: 0.8880\n",
      "Test Accuracy: 0.8880\n",
      "              precision    recall  f1-score   support\n",
      "\n",
      "           0       0.88      0.65      0.75        23\n",
      "           1       0.93      0.94      0.94       103\n",
      "           2       0.90      0.94      0.92       115\n",
      "\n",
      "    accuracy                           0.91       241\n",
      "   macro avg       0.91      0.84      0.87       241\n",
      "weighted avg       0.91      0.91      0.91       241\n",
      "\n"
     ]
    }
   ],
   "source": [
    "import tensorflow as tf\n",
    "from tensorflow.keras.models import Sequential\n",
    "from tensorflow.keras.layers import Dense\n",
    "\n",
    "\n",
    "\n",
    "# Initialize the model\n",
    "model = Sequential()\n",
    "\n",
    "# Add input layer and hidden layers\n",
    "model.add(Dense(64, input_dim=X_train_stand.shape[1], activation='relu'))\n",
    "model.add(Dense(32, activation='relu'))\n",
    "model.add(Dense(16, activation='relu'))\n",
    "\n",
    "# Add output layer\n",
    "model.add(Dense(3, activation='softmax'))  # Assuming 3 classes for adaptivity level\n",
    "\n",
    "# Compile the model\n",
    "model.compile(loss='sparse_categorical_crossentropy', optimizer='adam', metrics=['accuracy'])\n",
    "\n",
    "# Train the model\n",
    "history = model.fit(X_train_stand, y_train, epochs=100, batch_size=32, validation_data=(X_test_stand, y_test))\n",
    "\n",
    "# Evaluate the model\n",
    "loss, accuracy = model.evaluate(X_test_stand, y_test)\n",
    "print(f\"Test Accuracy: {accuracy:.4f}\")\n",
    "\n",
    "\n",
    "# Print classification report\n",
    "print(classification_report(y_test, y_pred_rf))"
   ]
  },
  {
   "cell_type": "markdown",
   "metadata": {},
   "source": [
    "### **Comparison accuracy between each model**"
   ]
  },
  {
   "cell_type": "markdown",
   "metadata": {},
   "source": [
    "**Training and Validation**"
   ]
  },
  {
   "cell_type": "code",
   "execution_count": 25,
   "metadata": {},
   "outputs": [
    {
     "name": "stdout",
     "output_type": "stream",
     "text": [
      "                 Model  Accuracy\n",
      "0  Logistic Regression  0.688797\n",
      "1        Decision Tree  0.900415\n",
      "2        Random Forest  0.912863\n",
      "3       Neural Network  0.887967\n"
     ]
    }
   ],
   "source": [
    "\n",
    "# Define the models and their corresponding accuracies\n",
    "models = [\n",
    "    \"Logistic Regression\",\n",
    "    \"Decision Tree\",\n",
    "    \"Random Forest\",\n",
    "    \"Neural Network\"\n",
    "]\n",
    "\n",
    "accuracies = [\n",
    "    accuracy_log_reg,  \n",
    "    accuracy_dt_best,  \n",
    "    accuracy_rf,   \n",
    "    accuracy \n",
    "]\n",
    "\n",
    "# Create a DataFrame\n",
    "comparison_df = pd.DataFrame({\n",
    "    \"Model\": models,\n",
    "    \"Accuracy\": accuracies,\n",
    "    \n",
    "})\n",
    "\n",
    "# Display the DataFrame\n",
    "print(comparison_df)\n",
    "\n",
    "\n",
    "\n"
   ]
  },
  {
   "cell_type": "markdown",
   "metadata": {},
   "source": [
    "# Hyperparameter Tuning"
   ]
  },
  {
   "cell_type": "code",
   "execution_count": 26,
   "metadata": {},
   "outputs": [
    {
     "name": "stdout",
     "output_type": "stream",
     "text": [
      "Accuracy: 0.9087136929460581\n",
      "              precision    recall  f1-score   support\n",
      "\n",
      "           0       0.65      0.88      0.75        17\n",
      "           1       0.94      0.92      0.93       105\n",
      "           2       0.93      0.90      0.91       119\n",
      "\n",
      "    accuracy                           0.91       241\n",
      "   macro avg       0.84      0.90      0.87       241\n",
      "weighted avg       0.92      0.91      0.91       241\n",
      "\n"
     ]
    }
   ],
   "source": [
    "from sklearn.model_selection import GridSearchCV\n",
    "from sklearn.ensemble import RandomForestClassifier\n",
    "from sklearn.metrics import accuracy_score\n",
    "\n",
    "\n",
    "# Define the model and its hyperparameter grid\n",
    "model = RandomForestClassifier()\n",
    "param_grid = {\n",
    "    'n_estimators': [50, 100, 200],\n",
    "    'max_depth': [None, 10, 20],\n",
    "    'min_samples_split': [2, 5, 10],\n",
    "    'min_samples_leaf': [1, 2, 4]\n",
    "}\n",
    "\n",
    "# Use GridSearchCV to find the best hyperparameters\n",
    "grid_search = GridSearchCV(estimator=model, param_grid=param_grid, cv=5)\n",
    "grid_search.fit(X_train, y_train)\n",
    "\n",
    "# Get the best hyperparameters\n",
    "best_params = grid_search.best_params_\n",
    "\n",
    "# Train the model with the best hyperparameters\n",
    "best_model = RandomForestClassifier(**best_params)\n",
    "best_model.fit(X_train, y_train)\n",
    "\n",
    "# Make predictions on the test set\n",
    "y_pred = best_model.predict(X_test)\n",
    "\n",
    "# Evaluate the model\n",
    "accuracy = accuracy_score(y_test, y_pred)\n",
    "print(f\"Accuracy: {accuracy}\")\n",
    "\n",
    "\n",
    "\n",
    "print(classification_report(y_pred, y_test)) \n"
   ]
  }
 ],
 "metadata": {
  "kernelspec": {
   "display_name": "Python 3",
   "language": "python",
   "name": "python3"
  },
  "language_info": {
   "codemirror_mode": {
    "name": "ipython",
    "version": 3
   },
   "file_extension": ".py",
   "mimetype": "text/x-python",
   "name": "python",
   "nbconvert_exporter": "python",
   "pygments_lexer": "ipython3",
   "version": "3.11.5"
  }
 },
 "nbformat": 4,
 "nbformat_minor": 2
}
